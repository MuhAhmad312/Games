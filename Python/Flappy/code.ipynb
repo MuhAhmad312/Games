{
 "cells": [
  {
   "cell_type": "code",
   "execution_count": 1,
   "metadata": {},
   "outputs": [
    {
     "name": "stdout",
     "output_type": "stream",
     "text": [
      "pygame 2.5.2 (SDL 2.28.3, Python 3.11.4)\n",
      "Hello from the pygame community. https://www.pygame.org/contribute.html\n"
     ]
    }
   ],
   "source": [
    "import pygame \n",
    "import numpy as np \n",
    "import sys "
   ]
  },
  {
   "cell_type": "code",
   "execution_count": 2,
   "metadata": {},
   "outputs": [],
   "source": [
    "bg = pygame.image.load('back.png') \n",
    "bird_img = pygame.image.load('bird.png') \n",
    "pipe_img = pygame.image.load('pipe.png')\n",
    "\n",
    "b1 = pygame.image.load('f_u.png') \n",
    "b2 = pygame.image.load('f_d.png') \n",
    "screen_size = (400,600) \n",
    "bg = pygame.transform.scale(bg, screen_size)\n",
    "b1 = pygame.transform.scale(b1,(50,50)) \n",
    "b2 = pygame.transform.scale(b2,(50,50))\n",
    "\n",
    "\n",
    "bird_img = pygame.transform.scale(bird_img,(50,50))\n",
    "pipe_img = pygame.transform.scale(pipe_img,(70,600))\n",
    "pipe_img_top = pygame.transform.flip(pipe_img, False, True)\n",
    "\n",
    "pygame.mixer.init(frequency=22050, size=-16, channels=2, buffer=512)\n",
    "\n",
    "flap_snd = pygame.mixer.Sound('flap.mp3')\n",
    "point_snd = pygame.mixer.Sound('point.mp3') \n",
    "die_snd = pygame.mixer.Sound('die.mp3')"
   ]
  },
  {
   "cell_type": "markdown",
   "metadata": {},
   "source": [
    "setting up screen "
   ]
  },
  {
   "cell_type": "code",
   "execution_count": 3,
   "metadata": {},
   "outputs": [],
   "source": [
    "pygame.init() \n",
    "\n",
    "screen = pygame.display.set_mode(screen_size) \n",
    "clock = pygame.time.Clock() \n",
    "run = True \n",
    "while run: \n",
    "    clock.tick(30) \n",
    "    for event in pygame.event.get(): \n",
    "        if event.type == pygame.QUIT: \n",
    "            run = False \n",
    "\n",
    "    screen.blit(bg,(0,0))\n",
    "    \n",
    "    pygame.display.update() \n",
    "\n",
    "pygame.quit() \n"
   ]
  },
  {
   "cell_type": "markdown",
   "metadata": {},
   "source": [
    "bird "
   ]
  },
  {
   "cell_type": "code",
   "execution_count": 4,
   "metadata": {},
   "outputs": [],
   "source": [
    "pygame.init() \n",
    "screen_size = (400,600) \n",
    "screen = pygame.display.set_mode(screen_size) \n",
    "class Bird: \n",
    "    def __init__(self): \n",
    "        self.x = 50 \n",
    "        self.y = screen_size[1] // 2 # middle say \n",
    "        self.d = 0 \n",
    "        self.images = [b1,b2] \n",
    "        self.curr = 0 \n",
    "        self.anitime = 0 \n",
    "        self.anispeed = 5 \n",
    "\n",
    "    def draw(self): \n",
    "        # pygame.draw.rect(screen, (255,0,0), (self.x, self.y, 20,20))\n",
    "        # screen.blit(bird_img, (self.x, self.y))\n",
    "        screen.blit(self.images[self.curr], (self.x, self.y))\n",
    "    def jump(self):\n",
    "        self.d = -8# jump strength \n",
    "    \n",
    "    def update(self): \n",
    "        self.d += 0.5 \n",
    "        self.y += self.d\n",
    "\n",
    "        self.anitime +=1 \n",
    "        if self.anitime >= self.anispeed: \n",
    "            self.anitime = 0 \n",
    "            self.curr = (self.curr +1) % len(self.images)\n",
    "\n",
    "clock = pygame.time.Clock() \n",
    "bird = Bird() \n",
    "run = True \n",
    "while run: \n",
    "    clock.tick(30) \n",
    "    screen.fill((255,0,0))\n",
    "    for event in pygame.event.get(): \n",
    "        if event.type == pygame.QUIT: \n",
    "            run = False\n",
    "        if event.type == pygame.KEYDOWN: \n",
    "            if event.key == pygame.K_SPACE: \n",
    "                bird.jump() \n",
    "    \n",
    "    bird.update() \n",
    "    bird.draw() \n",
    "\n",
    "    pygame.display.update() \n",
    "\n",
    "pygame.quit() \n"
   ]
  },
  {
   "cell_type": "markdown",
   "metadata": {},
   "source": [
    "pipe "
   ]
  },
  {
   "cell_type": "code",
   "execution_count": 5,
   "metadata": {},
   "outputs": [],
   "source": [
    "pygame.init() \n",
    "screen_size = (400,600) \n",
    "screen = pygame.display.set_mode(screen_size) \n",
    "\n",
    "class Pipe: \n",
    "    def __init__(self): \n",
    "        self.x = screen_size[0] # horizontal position of pipe on screen \n",
    "        self.h = np.random.randint(100,350) # height of top pieces use random for zigzagness\n",
    "        self.passed = False\n",
    "\n",
    "    def draw(self): \n",
    "        # pygame.draw.rect(screen, (0,255,0), (self.x, 0, 70, self.h)) \n",
    "        # pygame.draw.rect(screen, (0,255,0), (self.x, self.h + 150, 70, screen_size[1] - self.h - 150))\n",
    "        screen.blit(pipe_img_top, (self.x, self.h - pipe_img_top.get_height()))\n",
    "        screen.blit(pipe_img, (self.x, self.h + 120))        \n",
    "\n",
    "    def update(self): \n",
    "        self.x += -5 # move to left after each frame \n",
    "    \n",
    "    def collision(self,bird): \n",
    "        bird_rect = pygame.Rect(bird.x, bird.y, 20,20)\n",
    "        pipe_rect_top = pygame.Rect(self.x, 0, 70, self.h-20) \n",
    "        pipe_rect_bottom = pygame.Rect(self.x, self.h + 120, 70, screen_size[1] - self.h-100)\n",
    "        return bird_rect.colliderect(pipe_rect_top) or bird_rect.colliderect(pipe_rect_bottom)\n",
    "\n",
    "clock = pygame.time.Clock() \n",
    "pipes = [Pipe()]\n",
    "run = True \n",
    "while run: \n",
    "    clock.tick(30) \n",
    "    screen.fill((0,0,0))\n",
    "    for event in pygame.event.get(): \n",
    "        if event.type == pygame.QUIT: \n",
    "            run = False\n",
    "\n",
    "    if len(pipes) == 0 or pipes[-1].x < screen_size[0] - 200: \n",
    "        pipes.append(Pipe())\n",
    "\n",
    "    for pipe in pipes:\n",
    "        pipe.update() \n",
    "        pipe.draw() \n",
    "\n",
    "    pipes = [pipe for pipe in pipes if pipe.x+70 > 0]\n",
    "\n",
    "    pygame.display.update() \n",
    "\n",
    "pygame.quit() \n"
   ]
  },
  {
   "cell_type": "markdown",
   "metadata": {},
   "source": [
    "game "
   ]
  },
  {
   "cell_type": "code",
   "execution_count": 22,
   "metadata": {},
   "outputs": [
    {
     "name": "stdout",
     "output_type": "stream",
     "text": [
      "Your score is: 0\n"
     ]
    }
   ],
   "source": [
    "pygame.init() \n",
    "screen_size = (400,600) \n",
    "screen = pygame.display.set_mode(screen_size) \n",
    "clock = pygame.time.Clock() \n",
    "\n",
    "def main(): \n",
    "    bird = Bird()\n",
    "    pipes = [Pipe()]\n",
    "    score = 0 \n",
    "    run = True \n",
    "    while run: \n",
    "        clock.tick(30)  #30\n",
    "        # screen.fill((0,0,0))\n",
    "        screen.blit(bg, (0,0)) # background \n",
    "        for event in pygame.event.get(): \n",
    "            if event.type == pygame.QUIT: \n",
    "                run = False\n",
    "\n",
    "            if event.type == pygame.KEYDOWN: \n",
    "                if event.key == pygame.K_SPACE: \n",
    "                    bird.jump() \n",
    "                    flap_snd.play()\n",
    "        \n",
    "        bird.update() \n",
    "        bird.draw() \n",
    "\n",
    "        # new pipes add if needed\n",
    "        if len(pipes) == 0 or pipes[-1].x < screen_size[0] - 200: \n",
    "            pipes.append(Pipe())\n",
    "\n",
    "        # update and draw all pipes \n",
    "        for pipe in pipes:\n",
    "            pipe.update() \n",
    "            pipe.draw() \n",
    "            if pipe.collision(bird):\n",
    "                die_snd.play() \n",
    "                pygame.time.delay(1000)\n",
    "                run = False \n",
    "            if pipe.x + 70 < bird.x and not pipe.passed: \n",
    "                point_snd.play()\n",
    "                pipe.passed = True \n",
    "                score += 1 \n",
    "        pipes = [pipe for pipe in pipes if pipe.x+70 > 0]  # removes off screen popes \n",
    "\n",
    "        if bird.y > screen_size[1] or bird.y < 0: # out of bounds \n",
    "            run = False \n",
    "\n",
    "\n",
    "        pygame.display.update() \n",
    "\n",
    "\n",
    "    pygame.quit() \n",
    "    print(f\"Your score is: {score}\")\n",
    "\n",
    "\n",
    "main()\n"
   ]
  }
 ],
 "metadata": {
  "kernelspec": {
   "display_name": "Python 3",
   "language": "python",
   "name": "python3"
  },
  "language_info": {
   "codemirror_mode": {
    "name": "ipython",
    "version": 3
   },
   "file_extension": ".py",
   "mimetype": "text/x-python",
   "name": "python",
   "nbconvert_exporter": "python",
   "pygments_lexer": "ipython3",
   "version": "3.11.4"
  }
 },
 "nbformat": 4,
 "nbformat_minor": 2
}
